{
 "cells": [
  {
   "cell_type": "code",
   "execution_count": 16,
   "id": "d206a607",
   "metadata": {},
   "outputs": [],
   "source": [
    "from tkinter import * #import all methods and classes from the tkinter.\n",
    "import calendar #import calendar module.\n",
    "def showCalendar(): #function for calendar.\n",
    "    W=Tk() #create a GUI window.\n",
    "    W.title(\"CALENDAR\") #to set the title of GUI.\n",
    "    W.geometry(\"560x580\") #to set the size of the window.\n",
    "    W.config(bg=\"grey\") #to set the background colour of the window.\n",
    "    Y=int(ent.get()) #pass the enter method reference to year as an integer.\n",
    "    \n",
    "    \n",
    "    c=calendar.calendar(Y) #calendar method of calendar module return the calendar of the given year.\n",
    "    l3=Label(W,text=c,font=\"consolas 10 bold\") #create a label for showing the content of the calendar.\n",
    "    l3.grid(row=5,column=1,padx=20) #grid method is used for placing \n",
    "                                #the widgets at respective positionsin table like structure.\n",
    "    \n",
    "    W.mainloop() #start the GUI\n",
    "\n",
    "root=Tk() #create a GUI window.\n",
    "root.title(\"CALENDAR\") #to set the title of tkinter GUI window.\n",
    "root.geometry(\"350x250\") #to set the size of GUI window.\n",
    "root.config(bg=\"grey\") #to set the background colour of GUI window.\n",
    "l1=Label(root,text=\"CALENDAR\",bg=\"black\",fg=\"white\",font=(\"Algerian\",20,'bold')) \n",
    "      #creating label with specific font and size.\n",
    "l2=Label(root,text=\"Enter year :- \",bg=\"black\",fg=\"white\",font=('algerian',10))#creating a label.\n",
    "ent=Entry(root,borderwidth=10,width=18,bg=\"grey\") #create entry button to take input.\n",
    "button=Button(root,text=\"Show Calendar\",font=('helvetica',10),command=showCalendar) #create a button and attached to show calendar.\n",
    "exit=Button(root,text=\"Exit\",font=('helvetica',8),command=root.destroy) #create a button and attached to exit.\n",
    "l1.pack() #to pack the widgetsof of l1.\n",
    "l2.place(x=6,y=45) #to set the position of l2.\n",
    "ent.pack() #to pack the widgets of entry button.\n",
    "button.pack() #to pack the widgets of button.\n",
    "exit.pack() #to pack the widgets of exit.\n",
    "root.mainloop() #start the GUI."
   ]
  },
  {
   "cell_type": "code",
   "execution_count": null,
   "id": "6252420b",
   "metadata": {},
   "outputs": [],
   "source": []
  }
 ],
 "metadata": {
  "kernelspec": {
   "display_name": "Python 3 (ipykernel)",
   "language": "python",
   "name": "python3"
  },
  "language_info": {
   "codemirror_mode": {
    "name": "ipython",
    "version": 3
   },
   "file_extension": ".py",
   "mimetype": "text/x-python",
   "name": "python",
   "nbconvert_exporter": "python",
   "pygments_lexer": "ipython3",
   "version": "3.9.7"
  }
 },
 "nbformat": 4,
 "nbformat_minor": 5
}
